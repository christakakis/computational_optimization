{
  "cells": [
    {
      "cell_type": "code",
      "execution_count": 1,
      "metadata": {
        "colab": {
          "base_uri": "https://localhost:8080/"
        },
        "id": "sfMgfsn9L9Tq",
        "outputId": "6b58278d-ed09-406e-8dfe-11f341044297"
      },
      "outputs": [
        {
          "name": "stdout",
          "output_type": "stream",
          "text": [
            "Looking in indexes: https://pypi.org/simple, https://us-python.pkg.dev/colab-wheels/public/simple/\n",
            "Requirement already satisfied: tsplib95 in /usr/local/lib/python3.8/dist-packages (0.7.1)\n",
            "Requirement already satisfied: tabulate~=0.8.7 in /usr/local/lib/python3.8/dist-packages (from tsplib95) (0.8.10)\n",
            "Requirement already satisfied: Click>=6.0 in /usr/local/lib/python3.8/dist-packages (from tsplib95) (7.1.2)\n",
            "Requirement already satisfied: networkx~=2.1 in /usr/local/lib/python3.8/dist-packages (from tsplib95) (2.8.8)\n",
            "Requirement already satisfied: Deprecated~=1.2.9 in /usr/local/lib/python3.8/dist-packages (from tsplib95) (1.2.13)\n",
            "Requirement already satisfied: wrapt<2,>=1.10 in /usr/local/lib/python3.8/dist-packages (from Deprecated~=1.2.9->tsplib95) (1.14.1)\n",
            "Looking in indexes: https://pypi.org/simple, https://us-python.pkg.dev/colab-wheels/public/simple/\n",
            "Requirement already satisfied: vrpy in /usr/local/lib/python3.8/dist-packages (0.5.1)\n",
            "Requirement already satisfied: pulp in /usr/local/lib/python3.8/dist-packages (from vrpy) (2.7.0)\n",
            "Requirement already satisfied: cspy in /usr/local/lib/python3.8/dist-packages (from vrpy) (1.0.3)\n",
            "Requirement already satisfied: networkx in /usr/local/lib/python3.8/dist-packages (from vrpy) (2.8.8)\n",
            "Requirement already satisfied: numpy in /usr/local/lib/python3.8/dist-packages (from vrpy) (1.21.6)\n"
          ]
        }
      ],
      "source": [
        "!pip install tsplib95\n",
        "!pip install vrpy\n",
        "import tsplib95\n",
        "import numpy as np\n",
        "import math\n",
        "import networkx as nx\n",
        "import matplotlib.pyplot as plt\n",
        "from itertools import product\n",
        "import random\n",
        "from vrpy import VehicleRoutingProblem\n",
        "from networkx import DiGraph, from_numpy_matrix, relabel_nodes, set_node_attributes\n",
        "from numpy import array"
      ]
    },
    {
      "cell_type": "code",
      "execution_count": 2,
      "metadata": {
        "id": "biGZq3M9H0lU"
      },
      "outputs": [],
      "source": [
        "def x_ray_1(a,b):\n",
        "  x_ray_1 = tsplib95.distances.xray(a,b,sx=1.0, sy=1.0, sz=1.0)\n",
        "  return x_ray_1\n",
        "def x_ray_2(a,b):\n",
        "  x_ray_2 = tsplib95.distances.xray(a,b,sx=1.25, sy=1.5, sz=1.15)\n",
        "  return x_ray_2\n",
        "def eudcl(a,b):\n",
        "  eudcl = tsplib95.distances.euclidean(a,b)\n",
        "  return eudcl\n",
        "def att(a,b):\n",
        "  att = tsplib95.distances.pseudo_euclidean(a,b)\n",
        "  return att\n",
        "def geo(a,b):\n",
        "  geo = tsplib95.distances.geographical(a,b)\n",
        "  return geo  "
      ]
    },
    {
      "cell_type": "code",
      "execution_count": 3,
      "metadata": {
        "id": "MZ5EARgD6Jao"
      },
      "outputs": [],
      "source": [
        "#Explicit Functions\n",
        "\n",
        "def upperRow(dim,Matrix_of_distances_1, problem):\n",
        "  #Symmetrical TSP Explicit Upper row\n",
        "\n",
        "  for i in range(0,dim-1):\n",
        "        for j in range(0,len(problem.as_keyword_dict()['EDGE_WEIGHT_SECTION'][i])):\n",
        "          Matrix_of_distances_1[i][j+i+1]= problem.as_keyword_dict()['EDGE_WEIGHT_SECTION'][i][j]\n",
        "          Matrix_of_distances_1[j+i+1][i]=Matrix_of_distances_1[i][j+i+1]\n",
        "  return(Matrix_of_distances_1)\n",
        "\n",
        "def lowerRow(dim, Matrix_of_distances_1, problem):\n",
        "  #Symmetrical TSP Explicit Lower row\n",
        "\n",
        "  for i in range(0,dim-1):\n",
        "        for j in range(0,len(problem.as_keyword_dict()['EDGE_WEIGHT_SECTION'][i])):\n",
        "          Matrix_of_distances_1[i+1][j]= problem.as_keyword_dict()['EDGE_WEIGHT_SECTION'][i][j]\n",
        "          Matrix_of_distances_1[j][i+1]=Matrix_of_distances_1[i+1][j]\n",
        "\n",
        "  return(Matrix_of_distances_1)\n",
        "\n",
        "def asymfullMatrix(dim, Matrix_of_distances_1, problem):\n",
        "  #Assymetrical TSP Explicit (full matrix every time )\n",
        "\n",
        "  float_formatter = \"{:.0f}\".format\n",
        "  np.set_printoptions(formatter={'float_kind':float_formatter})\n",
        "  all_numbers=[]\n",
        "  for z in range(len(problem.as_keyword_dict()['EDGE_WEIGHT_SECTION'])):\n",
        "    for arithmoi_seiras in range(len(problem.as_keyword_dict()['EDGE_WEIGHT_SECTION'][z])):\n",
        "      all_numbers.append(problem.as_keyword_dict()['EDGE_WEIGHT_SECTION'][z][arithmoi_seiras])\n",
        "  metritis_arithmou=0\n",
        "  for i in range(dim):\n",
        "    for j in range(dim):\n",
        "      Matrix_of_distances_1[i][j]=all_numbers[metritis_arithmou]\n",
        "      metritis_arithmou+=1\n",
        "\n",
        "  return(Matrix_of_distances_1)\n",
        "\n",
        "def sopfullMatrix(dim, Matrix_of_distances_1, problem):\n",
        "  #SOP Explicit (full matrix every time )\n",
        "\n",
        "  float_formatter = \"{:.0f}\".format\n",
        "  np.set_printoptions(formatter={'float_kind':float_formatter})\n",
        "  all_numbers=[]\n",
        "  for z in range(1,len(problem.as_keyword_dict()['EDGE_WEIGHT_SECTION'])):\n",
        "    for arithmoi_seiras in range(len(problem.as_keyword_dict()['EDGE_WEIGHT_SECTION'][z])):\n",
        "      all_numbers.append(problem.as_keyword_dict()['EDGE_WEIGHT_SECTION'][z][arithmoi_seiras])\n",
        "  metritis_arithmou=0\n",
        "  for i in range(dim):\n",
        "    for j in range(dim):\n",
        "      Matrix_of_distances_1[i][j]=all_numbers[metritis_arithmou]\n",
        "      metritis_arithmou+=1\n",
        "\n",
        "  return(Matrix_of_distances_1)\n",
        "\n",
        "#CVRP Explicit lower_col\n",
        "def lowerCol(dim, Matrix_of_distances_1, problem):\n",
        "  \n",
        "  stoixeia= dim*(dim-1)/2\n",
        "  all_numbers=[]\n",
        "  for z in range(0,len(problem.as_keyword_dict()['EDGE_WEIGHT_SECTION'])):\n",
        "    for arithmos_seiras in range(len(problem.as_keyword_dict()['EDGE_WEIGHT_SECTION'][z])):\n",
        "      all_numbers.append(problem.as_keyword_dict()['EDGE_WEIGHT_SECTION'][z][arithmos_seiras])\n",
        "  metritis_arithmou=0\n",
        "  for i in range(dim-1,0,-1):\n",
        "    list_0=np.zeros(dim-i)\n",
        "    sthlh=all_numbers[:i]\n",
        "    all_numbers=all_numbers[i:]\n",
        "    list_0=np.append(list_0,sthlh)\n",
        "    Matrix_of_distances_1[:,dim-i-1]=list_0\n",
        "  \n",
        "  for i in range(dim):\n",
        "    for j in range(i,dim):\n",
        "      Matrix_of_distances_1[i][j]=Matrix_of_distances_1[j,i]\n",
        "  return(Matrix_of_distances_1)\n",
        "\n",
        "#CVRP Explicit upper_col\n",
        "def upperCol(dim, Matrix_of_distances_1, problem):\n",
        "  \n",
        "  stoixeia= dim*(dim-1)/2\n",
        "  all_numbers=[]\n",
        "  for z in range(0,len(problem.as_keyword_dict()['EDGE_WEIGHT_SECTION'])):\n",
        "    for arithmos_seiras in range(len(problem.as_keyword_dict()['EDGE_WEIGHT_SECTION'][z])):\n",
        "      all_numbers.append(problem.as_keyword_dict()['EDGE_WEIGHT_SECTION'][z][arithmos_seiras])\n",
        "  metritis_arithmou=0\n",
        "  for i in range(1,dim):\n",
        "    list_0=np.zeros(dim-i)\n",
        "    sthlh=all_numbers[:i]\n",
        "    all_numbers=all_numbers[i:]\n",
        "    list_0=np.append(sthlh,list_0)\n",
        "    Matrix_of_distances_1[:,i]=list_0\n",
        "  for j in range(dim):\n",
        "    for i in range(j,dim):\n",
        "      Matrix_of_distances_1[i][j]=Matrix_of_distances_1[j,i]\n",
        "  return(Matrix_of_distances_1)"
      ]
    },
    {
      "cell_type": "markdown",
      "metadata": {
        "id": "t0cudrJ05uz_"
      },
      "source": [
        "**'TSP' function**"
      ]
    },
    {
      "cell_type": "code",
      "execution_count": 4,
      "metadata": {
        "id": "nJW5OhBv5pDv"
      },
      "outputs": [],
      "source": [
        "def tsp(path, prt=True, plot=True):\n",
        "  \"\"\"\n",
        "  Main parser function that parses various TSP and more type\n",
        "  of problems with the help of tsplib95.\n",
        "\n",
        "  Works for the following:\n",
        "    1. Hamiltonian cycle problem (HCP) instances,\n",
        "    2. Asymmetric traveling salesman problem (ATSP) instances,\n",
        "    3. Sequential ordering problem (SOP) instances,\n",
        "    4. Capacitated vehicle problem (CVRP) instances,\n",
        "    5. EDGE_WEIGHT_TYPE = 'EXPLICIT',\n",
        "    6. EDGE_WEIGHT_TYPE = 'EUC_2D',\n",
        "    7. EDGE_WEIGHT_TYPE = 'EUC_3D',\n",
        "    8. EDGE_WEIGHT_TYPE = 'XRAY1',\n",
        "    9. EDGE_WEIGHT_TYPE = 'XRAY2',\n",
        "    10. EDGE_WEIGHT_TYPE = 'GEO',\n",
        "    11.EDGE_WEIGHT_TYPE = 'ATT',\n",
        "    12.EDGE_WEIGHT_FORMAT = 'UPPER_ROW',\n",
        "    13.EDGE_WEIGHT_FORMAT = 'LOWER_ROW'\n",
        "    14.EDGE_WEIGHT_FORMAT = 'UPPER_COL',\n",
        "    15.EDGE_WEIGHT_FORMAT = 'LOWER_COL'\n",
        "    16.EDGE_WEIGHT_FORMAT = 'FULL_MATRIX'\n",
        "  \"\"\"\n",
        "  global dist, problem\n",
        "  try:\n",
        "    problem = tsplib95.load(path)\n",
        "  except Exception as e:\n",
        "    print(e)\n",
        "    return None\n",
        "  \n",
        "  name = problem.name\n",
        "  comment = problem.comment\n",
        "  dim = problem.dimension\n",
        "  Matrix_of_distances_1 = np.zeros((dim,dim))\n",
        "  problem_type = problem.type\n",
        "  try:\n",
        "    dist = problem.as_keyword_dict()['EDGE_WEIGHT_TYPE']\n",
        "  except:\n",
        "    dist = ''\n",
        "  problem_dict = {'Name': name, 'Type': problem_type, \n",
        "                  'Dimension': dim, 'Comment': comment,\n",
        "                  'Distance': dist}\n",
        "\n",
        "  distances = {'ATT': att, 'EUC_3D': eudcl, 'XRAY1': x_ray_1,\n",
        "              'XRAY2': x_ray_2, 'GEO': geo,'EUC_2D': eudcl}\n",
        "\n",
        "  if problem_type == \"HCP\":\n",
        "    format = problem.edge_data_format\n",
        "    Matrix_of_distances_1, node_from, node_to = hcp(dim, problem)\n",
        "\n",
        "  elif dist in distances:\n",
        "    for i in range(1,dim+1):\n",
        "      for j in range(i+1,dim+1):\n",
        "        Matrix_of_distances_1[i-1][j-1] = \\\n",
        "          distances[dist](problem.as_keyword_dict()['NODE_COORD_SECTION'][i], \n",
        "          problem.as_keyword_dict()['NODE_COORD_SECTION'][j])\n",
        "        Matrix_of_distances_1[j-1][i-1] = Matrix_of_distances_1[i-1][j-1]\n",
        "\n",
        "    if problem_type == \"CVRP\":\n",
        "      problem_dict['Capacity'] = problem.as_keyword_dict()['CAPACITY']\n",
        "      problem_dict[\"Depots\"] = problem.as_keyword_dict()['DEPOT_SECTION']\n",
        "\n",
        "  elif dist == 'EXPLICIT':\n",
        "    # print(\"There is not distance between the points, we already have the distance matrix\")\n",
        "    # print(\"\")\n",
        "    try:\n",
        "      format = problem.edge_weight_format\n",
        "    except Exception as e:\n",
        "      print(e)\n",
        "    if format == 'UPPER_ROW':\n",
        "      Matrix_of_distances_1 = upperRow(dim, Matrix_of_distances_1, problem)\n",
        "    elif format == 'LOWER_ROW':\n",
        "      Matrix_of_distances_1 = lowerRow(dim, Matrix_of_distances_1, problem)\n",
        "    elif format == 'LOWER_COL':\n",
        "      Matrix_of_distances_1 = lowerCol(dim, Matrix_of_distances_1, problem)\n",
        "    elif format == 'UPPER_COL':\n",
        "      Matrix_of_distances_1 = upperCol(dim, Matrix_of_distances_1, problem)\n",
        "    elif format == 'FULL_MATRIX':\n",
        "      if problem_type == 'ATSP':\n",
        "        Matrix_of_distances_1 = asymfullMatrix(dim, Matrix_of_distances_1, problem)\n",
        "      if problem_type == 'SOP':\n",
        "        Matrix_of_distances_1 = sopfullMatrix(dim, Matrix_of_distances_1, problem)\n",
        "\n",
        "  else:\n",
        "    print('Unable to parse file')\n",
        "\n",
        "\n",
        "  problem_dict['Weight Matrix'] = Matrix_of_distances_1\n",
        "\n",
        "  if dist != 'EXPLICIT':\n",
        "    problem_dict['Node Coordinates'] = problem.node_coords\n",
        "        \n",
        "  if plot:\n",
        "    if problem_type == \"HCP\":\n",
        "      plot_hcp(node_from, node_to)\n",
        "    else:\n",
        "      #plotTSP([path], problem_dict['Node Coordinates'])\n",
        "      G = problem.get_graph()\n",
        "      nx.draw_networkx(G, node_size=50, edgelist=[])\n",
        "      plt.title(\"Network Graph of the Problem\")\n",
        "      plt.show()\n",
        "\n",
        "  if prt:\n",
        "    for key, val in problem_dict.items():\n",
        "      if key not in ['Node Coordinates', 'Weight Matrix']:\n",
        "        print(f'{key}: {val}')\n",
        "      else:\n",
        "        print(f'{key}:\\n{val}')\n",
        "\n",
        "  return problem_dict"
      ]
    },
    {
      "cell_type": "code",
      "execution_count": 69,
      "metadata": {
        "id": "lS3_0rbmSTYj"
      },
      "outputs": [],
      "source": [
        "def cvrp_solve(filename):\n",
        "\n",
        "  problem_dict = tsp(filename, prt = False, plot = False)\n",
        "  array = problem_dict['Weight Matrix']\n",
        "  rows, cols = array.shape\n",
        "  # Taking all the elements apart from the first column.\n",
        "  weight_array = array[:,1:]\n",
        "  # Inserting the first column into the last.\n",
        "  weight_array = np.insert(weight_array, cols-1, array[:,0], axis = 1)\n",
        "  # Inserting into the first column zeros.\n",
        "  weight_array = np.insert(weight_array, 0, 0, axis = 1)\n",
        "  # Inserting into the last row zeros.\n",
        "  weight_array = np.insert(weight_array, rows, 0, axis = 0)\n",
        "  # Define capacity, depots and demand variables.\n",
        "  capacity = problem.as_keyword_dict()['CAPACITY']\n",
        "  depots = problem.as_keyword_dict()['DEPOT_SECTION']\n",
        "  demand = problem.as_keyword_dict()['DEMAND_SECTION']\n",
        "  # Correcting indexes in demand section. \n",
        "  new_demand = {}\n",
        "  for key in demand.keys():\n",
        "    new_demand[key - 1] = demand[key]\n",
        "  del new_demand[0]\n",
        "\n",
        "  # The matrix is transformed into a DiGraph.\n",
        "  A = np.array(weight_array, dtype = [(\"cost\", float)])\n",
        "  G = from_numpy_matrix(A, create_using = nx.DiGraph())\n",
        "  # The demands are stored as node attributes.\n",
        "  set_node_attributes(G, values = new_demand, name = \"demand\")\n",
        "  # The depot is relabeled as Source and Sink.\n",
        "  G = relabel_nodes(G, {0: \"Source\", rows: \"Sink\"})\n",
        "  \n",
        "  # Find and print the optimal(s) solution(s).\n",
        "  prob = VehicleRoutingProblem(G, load_capacity = capacity)\n",
        "  prob.solve()\n",
        "  print(\"Best value for:\", filename)\n",
        "  print(prob.best_value, \"\\n\")\n",
        "  print(\"Best routes for:\", filename)\n",
        "  print(prob.best_routes, \"\\n\")\n",
        "  print(\"Weights for best possible routes:\", filename)\n",
        "  print(prob.best_routes_load)"
      ]
    },
    {
      "cell_type": "code",
      "execution_count": 70,
      "metadata": {
        "colab": {
          "base_uri": "https://localhost:8080/"
        },
        "id": "ex0NeHdtjIde",
        "outputId": "8dbb7eb5-8d30-425c-d74b-42e08e861e26"
      },
      "outputs": [
        {
          "name": "stdout",
          "output_type": "stream",
          "text": [
            "Best value for: eil7.vrp\n",
            "114.0 \n",
            "\n",
            "Best routes for: eil7.vrp\n",
            "{1: ['Source', 1, 2, 3, 'Sink'], 2: ['Source', 6, 5, 4, 'Sink']} \n",
            "\n",
            "Weights for best possible routes: eil7.vrp\n",
            "{1: 3, 2: 3}\n"
          ]
        }
      ],
      "source": [
        "# Example 1\n",
        "cvrp_solve('eil7.vrp')"
      ]
    },
    {
      "cell_type": "code",
      "execution_count": 71,
      "metadata": {
        "colab": {
          "base_uri": "https://localhost:8080/"
        },
        "id": "Foi8AdJajIZb",
        "outputId": "7f54a5e6-5948-4d33-de5c-2ee5709743c7"
      },
      "outputs": [
        {
          "name": "stdout",
          "output_type": "stream",
          "text": [
            "Best value for: eil13.vrp\n",
            "290.0 \n",
            "\n",
            "Best routes for: eil13.vrp\n",
            "{1: ['Source', 7, 11, 12, 10, 'Sink'], 2: ['Source', 1, 2, 3, 4, 'Sink'], 3: ['Source', 6, 8, 9, 'Sink'], 4: ['Source', 5, 'Sink']} \n",
            "\n",
            "Weights for best possible routes: eil13.vrp\n",
            "{1: 5600, 2: 5800, 3: 5100, 4: 1700}\n"
          ]
        }
      ],
      "source": [
        "# Example 2\n",
        "cvrp_solve('eil13.vrp')"
      ]
    },
    {
      "cell_type": "code",
      "execution_count": 72,
      "metadata": {
        "colab": {
          "base_uri": "https://localhost:8080/"
        },
        "id": "kA-MhqBQTxfJ",
        "outputId": "644f5c06-bdbb-4709-c6d8-ec179ee933bd"
      },
      "outputs": [
        {
          "name": "stdout",
          "output_type": "stream",
          "text": [
            "Best value for: eil22.vrp\n",
            "375.0 \n",
            "\n",
            "Best routes for: eil22.vrp\n",
            "{1: ['Source', 10, 8, 3, 4, 11, 13, 'Sink'], 2: ['Source', 6, 1, 2, 5, 7, 9, 'Sink'], 3: ['Source', 12, 15, 18, 20, 17, 'Sink'], 4: ['Source', 14, 21, 19, 16, 'Sink']} \n",
            "\n",
            "Weights for best possible routes: eil22.vrp\n",
            "{1: 5400, 2: 5600, 3: 5900, 4: 5600}\n"
          ]
        }
      ],
      "source": [
        "# Example 3\n",
        "cvrp_solve('eil22.vrp')"
      ]
    }
  ],
  "metadata": {
    "colab": {
      "provenance": []
    },
    "kernelspec": {
      "display_name": "Python 3",
      "name": "python3"
    },
    "language_info": {
      "name": "python"
    }
  },
  "nbformat": 4,
  "nbformat_minor": 0
}
