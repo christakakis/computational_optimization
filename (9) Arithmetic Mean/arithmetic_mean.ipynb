{
 "cells": [
  {
   "cell_type": "code",
   "execution_count": 2,
   "id": "7a5264bc",
   "metadata": {},
   "outputs": [],
   "source": [
    "import numpy as np\n",
    "import pandas as pd\n",
    "import scipy"
   ]
  },
  {
   "cell_type": "code",
   "execution_count": 150,
   "id": "08998c1d",
   "metadata": {},
   "outputs": [],
   "source": [
    "# Initialize matrices for testing the algorithm\n",
    "A = ([[ 956,    0,     1,   258/5],\n",
    "       [5/2,    4,  13/2,   149/5],\n",
    "       [  1,  3/2,     0,   67/10]])\n",
    "\n",
    "b = [4, 7/2, 55]\n",
    "\n",
    "c = [7/2, 0, 453, 6]\n",
    "\n",
    "Eqin = [0, 0, 0]\n",
    "\n",
    "A = np.float_(A)\n",
    "b = np.float_(b)\n",
    "c = np.float_(c)"
   ]
  },
  {
   "cell_type": "code",
   "execution_count": 151,
   "id": "b37db03a",
   "metadata": {},
   "outputs": [
    {
     "name": "stdout",
     "output_type": "stream",
     "text": [
      "Table A has the following Non-Zero elements per ROW: [3, 4, 3]\n",
      "Table A after the update has the following Non-Zero elements per COL: [3, 2, 2, 3]\n",
      "\n",
      "A: \n",
      " [[2.50659 0.      0.00974 0.08987]\n",
      " [0.20596 0.86639 1.99026 1.63081]\n",
      " [0.28745 1.13361 0.      1.27932]]\n",
      "\n",
      "b:  [1.190000e-02 3.271000e-01 1.793478e+01]\n",
      "\n",
      "c:  [   3.08526    0.      1484.14847    3.51335]\n",
      "\n",
      "r:  [0.00297 0.09346 0.32609]\n",
      "\n",
      "s:  [0.8815  2.3176  3.27627 0.58556]\n"
     ]
    }
   ],
   "source": [
    "# Define rows, cols lenght\n",
    "rows = len(A)\n",
    "cols = len(A[1])\n",
    "\n",
    "# Initialize original r, s and their non_zeros\n",
    "r = [0] * rows\n",
    "s = [0] * cols\n",
    "\n",
    "r_non_zeros = [0] * rows\n",
    "s_non_zeros = [0] * cols\n",
    "\n",
    "# Create r\n",
    "for i in range(rows):\n",
    "    row_non_zeros = 0\n",
    "    for j in range(cols):\n",
    "        if A[i][j] != 0:\n",
    "            row_non_zeros += 1\n",
    "            r_non_zeros[i] = row_non_zeros\n",
    "            r[i] += abs(A[i][j]) \n",
    "\n",
    "print(\"Table A has the following Non-Zero elements per ROW:\", r_non_zeros)\n",
    "            \n",
    "for i in range(rows):\n",
    "    r[i] = r_non_zeros[i] / r[i]\n",
    "            \n",
    "# Update A and b\n",
    "for i in range(rows):\n",
    "    b[i] = np.dot(b[i], r[i])\n",
    "    for j in range(cols):\n",
    "        A[i][j] = np.dot(A[i][j], r[i])\n",
    "        \n",
    "# Create s\n",
    "for j in range(cols):\n",
    "    col_non_zeros = 0\n",
    "    for i in range(rows):\n",
    "        if A[i][j] != 0:\n",
    "            col_non_zeros += 1\n",
    "            s_non_zeros[j] = col_non_zeros\n",
    "            s[j] += abs(A[i][j])\n",
    "            \n",
    "print(\"Table A after the update has the following Non-Zero elements per COL:\", s_non_zeros)\n",
    "\n",
    "for j in range(cols):\n",
    "    s[j] = s_non_zeros[j] / s[j]\n",
    "    \n",
    "# Update A and c\n",
    "for j in range(cols):\n",
    "    c[j] = np.dot(c[j], s[j])\n",
    "    for i in range(rows):\n",
    "        A[i][j] = np.dot(A[i][j], s[j])\n",
    "        \n",
    "# Convert r, s to numpy arrays for rounding\n",
    "r = np.asarray(r)\n",
    "s = np.asarray(s)\n",
    "\n",
    "# Rounding for simplicity\n",
    "A = A.round(decimals=5)\n",
    "b = b.round(decimals=5)\n",
    "c = c.round(decimals=5)\n",
    "r = r.round(decimals=5)\n",
    "s = s.round(decimals=5)\n",
    "\n",
    "print(\"\\nA: \\n\", A)\n",
    "print(\"\\nb: \", b)\n",
    "print(\"\\nc: \", c)\n",
    "print(\"\\nr: \", r)\n",
    "print(\"\\ns: \", s)"
   ]
  }
 ],
 "metadata": {
  "kernelspec": {
   "display_name": "Python 3 (ipykernel)",
   "language": "python",
   "name": "python3"
  },
  "language_info": {
   "codemirror_mode": {
    "name": "ipython",
    "version": 3
   },
   "file_extension": ".py",
   "mimetype": "text/x-python",
   "name": "python",
   "nbconvert_exporter": "python",
   "pygments_lexer": "ipython3",
   "version": "3.9.12"
  }
 },
 "nbformat": 4,
 "nbformat_minor": 5
}
